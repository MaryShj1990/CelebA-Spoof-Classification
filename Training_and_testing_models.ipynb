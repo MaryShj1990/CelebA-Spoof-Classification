{
  "cells": [
    {
      "cell_type": "markdown",
      "metadata": {
        "id": "P-zxurdAraBH"
      },
      "source": [
        "# **import libraries**"
      ]
    },
    {
      "cell_type": "code",
      "execution_count": null,
      "metadata": {
        "id": "LpRq7QakrPhB"
      },
      "outputs": [],
      "source": [
        "import pandas as pd\n",
        "import numpy as np\n",
        "import os\n",
        "import tensorflow as tf\n",
        "import tensorflow.keras\n",
        "import matplotlib.pyplot as plt\n",
        "import keras\n",
        "from tensorflow.keras.layers import Dense, Dropout, Activation, Flatten\n",
        "from tensorflow.keras.utils import plot_model\n",
        "from tensorflow.keras.models import Model\n",
        "from tensorflow.keras.layers import  concatenate\n",
        "from sklearn.metrics import classification_report, confusion_matrix\n",
        "from mlxtend.plotting import plot_confusion_matrix\n",
        "# make the results reproducible:\n",
        "import random\n",
        "random.seed(0)\n",
        "import tensorflow as tf\n",
        "np.random.seed(0)\n",
        "tensorflow.random.set_seed(0)"
      ]
    },
    {
      "cell_type": "markdown",
      "metadata": {
        "id": "exSkLEdfzc2j"
      },
      "source": [
        "# **mount google drive**"
      ]
    },
    {
      "cell_type": "code",
      "execution_count": null,
      "metadata": {
        "id": "oR9erNujzYv3"
      },
      "outputs": [],
      "source": [
        "from google.colab import drive\n",
        "drive.mount('/content/drive')"
      ]
    },
    {
      "cell_type": "markdown",
      "metadata": {
        "id": "59yvplaizIDL"
      },
      "source": [
        "# **fetch data from google drive**"
      ]
    },
    {
      "cell_type": "code",
      "execution_count": null,
      "metadata": {
        "id": "MLZCxfQ9zOGh"
      },
      "outputs": [],
      "source": [
        "!cp /content/drive/MyDrive/Face_Anti_Spoofing_Dataset/anti_spoofing_data.npz /content\n",
        "!cp /content/drive/MyDrive/Face_Anti_Spoofing_Dataset/anti_spoofing_data_part2.npz /content"
      ]
    },
    {
      "cell_type": "markdown",
      "metadata": {
        "id": "HGK9JLub0rAj"
      },
      "source": [
        "# **load data**"
      ]
    },
    {
      "cell_type": "code",
      "source": [
        "#load data part1\n",
        "anti_spoofing_data_part1 = np.load('anti_spoofing_data.npz')                      # load the npz file part 1 (40,000 image samples)\n",
        "X1, y1 = anti_spoofing_data_part1['arr_0'], anti_spoofing_data_part1['arr_1']     # store the images and their corresponding labels into X1 and y1, respectively\n",
        "del anti_spoofing_data_part1                                                      # delete this variable to free up the memory\n",
        "#load data part2\n",
        "anti_spoofing_data_part2 = np.load('anti_spoofing_data_part2.npz')                # load the npz file part 2 (40,000 image samples)\n",
        "X2, y2 = anti_spoofing_data_part2['arr_0'], anti_spoofing_data_part2['arr_1']\n",
        "del anti_spoofing_data_part2\n",
        "data_all=np.concatenate([X1,X2])                                                  # concatenate image samples from part 1 and part 2\n",
        "label_all=np.concatenate([y1,y2])                                                 # concatenate image labels from part 1 and part 2\n",
        "# delete all the unused variables to free up the memory\n",
        "del X1\n",
        "del X2\n",
        "del y1\n",
        "del y2"
      ],
      "metadata": {
        "id": "JF0LyEjIS3wK"
      },
      "execution_count": null,
      "outputs": []
    },
    {
      "cell_type": "code",
      "source": [
        "# garbage collector\n",
        "import gc \n",
        "gc.collect() "
      ],
      "metadata": {
        "colab": {
          "base_uri": "https://localhost:8080/"
        },
        "id": "HWMeByieGsK2",
        "outputId": "07a32c78-62ae-4cb7-8b22-5b921c20e83a"
      },
      "execution_count": null,
      "outputs": [
        {
          "output_type": "execute_result",
          "data": {
            "text/plain": [
              "8375"
            ]
          },
          "metadata": {},
          "execution_count": 12
        }
      ]
    },
    {
      "cell_type": "markdown",
      "source": [
        "# **display the image samples**"
      ],
      "metadata": {
        "id": "6EGygYU934St"
      }
    },
    {
      "cell_type": "code",
      "source": [
        "print(\"data shape:\",data_all.shape)\n",
        "print(\"labels shape\",label_all.shape)"
      ],
      "metadata": {
        "id": "U0X3lK6gS6pn"
      },
      "execution_count": null,
      "outputs": []
    },
    {
      "cell_type": "code",
      "source": [
        "plt.figure(figsize=(224,224))\n",
        "images=[0,28,1,15060,9000,27,15061,29,500,1024]\n",
        "for i in range(10):\n",
        "    plt.subplot(5,5,i+1)\n",
        "    plt.xticks([])\n",
        "    plt.yticks([])\n",
        "    plt.grid(False)\n",
        "    plt.imshow(data_all[images[i]])\n",
        "plt.show()"
      ],
      "metadata": {
        "id": "EQdI3NBeS-T_"
      },
      "execution_count": null,
      "outputs": []
    },
    {
      "cell_type": "code",
      "source": [
        "# Due to the limitation of resources, 50k from 80k number of samples were used in training the models.\n",
        "data_all=data_all[0:50000]\n",
        "label_all=label_all[0:50000]"
      ],
      "metadata": {
        "id": "kIpyZx99cati"
      },
      "execution_count": null,
      "outputs": []
    },
    {
      "cell_type": "code",
      "source": [
        "print(\"data shape:\",data_all.shape)\n",
        "print(\"labels shape\",label_all.shape)"
      ],
      "metadata": {
        "id": "dHDUNoS4t1r4"
      },
      "execution_count": null,
      "outputs": []
    },
    {
      "cell_type": "markdown",
      "metadata": {
        "id": "Sb0nXaFWBguw"
      },
      "source": [
        "# **split data into train, validation, and test sets with a ratio of 80:10:10**"
      ]
    },
    {
      "cell_type": "code",
      "execution_count": null,
      "metadata": {
        "id": "VXQ2kglaBjdt"
      },
      "outputs": [],
      "source": [
        "from sklearn.model_selection import train_test_split\n",
        "import numpy as np\n",
        "\n",
        "X_train, X_valid, y_train, y_valid = train_test_split(data_all, label_all, test_size=0.2, random_state=42,shuffle=True)\n"
      ]
    },
    {
      "cell_type": "code",
      "source": [
        "del data_all\n",
        "del label_all"
      ],
      "metadata": {
        "id": "ONnWD_8NMbZN"
      },
      "execution_count": null,
      "outputs": []
    },
    {
      "cell_type": "code",
      "source": [
        "X_valid, X_test, y_valid, y_test = train_test_split(X_valid, y_valid, test_size=0.5, random_state=42,shuffle=True)\n",
        "print(f'Training dataset size of X_train: {len(X_train)}')\n",
        "print(f'Testing dataset size of X_test: {len(X_test)}')\n",
        "print(f'Validation dataset size of X_valid: {len(X_valid)}')\n",
        "print(f'Testing dataset size of y_train: {len(y_train)}')\n",
        "print(f'Testing dataset size of y_test: {len(y_test)}')\n",
        "print(f'Testing dataset size of y_valid: {len(y_valid)}')"
      ],
      "metadata": {
        "id": "iu7e7dyZMkfJ"
      },
      "execution_count": null,
      "outputs": []
    },
    {
      "cell_type": "code",
      "source": [
        "import gc \n",
        "gc.collect() "
      ],
      "metadata": {
        "id": "DOrJBrM2BJrp"
      },
      "execution_count": null,
      "outputs": []
    },
    {
      "cell_type": "code",
      "execution_count": null,
      "metadata": {
        "id": "iSkj3SWBjIgL"
      },
      "outputs": [],
      "source": [
        "width=224\n",
        "height=224\n",
        "channel=3"
      ]
    },
    {
      "cell_type": "code",
      "source": [
        "my_epochs=50\n",
        "my_batch_size=128"
      ],
      "metadata": {
        "id": "qlJU86JoA3eh"
      },
      "execution_count": null,
      "outputs": []
    },
    {
      "cell_type": "markdown",
      "metadata": {
        "id": "a6Zbm2KAsNc7"
      },
      "source": [
        "# **create VGG16 model**"
      ]
    },
    {
      "cell_type": "code",
      "execution_count": null,
      "metadata": {
        "id": "yVONomA-sOuR"
      },
      "outputs": [],
      "source": [
        "VGG_base_model=tf.keras.applications.VGG16(weights=\"imagenet\",include_top=False,input_shape =(width, height,channel))  # remove three FC layers from VGG-16 by setting include_top as False\n",
        "VGG_base_model.summary ()\n",
        "\n",
        "for layer in VGG_base_model.layers:           \n",
        "    layer.trainable = False                              # fix the parameters of convolutional bas in VGG-16 (they will not be changed during training the model on our data)\n",
        "\n",
        "#get weights and features from base model    \n",
        "VGG_features = VGG_base_model.output\n"
      ]
    },
    {
      "cell_type": "markdown",
      "source": [
        "# **attach the extracted features from VGG-16 to our own classifier**"
      ],
      "metadata": {
        "id": "VfjKN4lR28vf"
      }
    },
    {
      "cell_type": "code",
      "source": [
        "headModel = VGG_base_model.output                                    # get the features from VGG-16\n",
        "headModel = Flatten(name=\"flatten\")(headModel)                       # flatten the features\n",
        "headModel = Dense(300, activation=\"relu\")(headModel)                 # the first FC layer with 300 neurons\n",
        "headModel = Dropout(.5)(headModel)                                   # droput layer with a rate of 0.5 \n",
        "headModel = Dense(200, activation=\"relu\")(headModel)                 # the second FC layer with 200 neurons\n",
        "headModel = Dropout(.5)(headModel)                                   # droput layer with a rate of 0.5 \n",
        "headModel = Dense(100, activation=\"relu\")(headModel)                  # the third FC layer with 100 neurons\n",
        "headModel = Dense(1, activation=\"sigmoid\")(headModel)                # output neuron followed by a Sigmoid activation function\n",
        "vgg_model = Model(inputs=VGG_base_model.input, outputs=headModel)    # group all the layers into vgg_model"
      ],
      "metadata": {
        "id": "8Cn-Sw2o3LbR"
      },
      "execution_count": null,
      "outputs": []
    },
    {
      "cell_type": "markdown",
      "source": [
        "# **compile and plot model created using VGG model**"
      ],
      "metadata": {
        "id": "y1_4sIKy3QtG"
      }
    },
    {
      "cell_type": "code",
      "source": [
        "vgg_model.compile(optimizer='Adam', loss=tensorflow.keras.losses.binary_crossentropy,metrics=\"accuracy\" )    # compile the model with specified optimizer, loss, and metrics\n",
        "keras.utils.vis_utils.plot_model(vgg_model,dpi=100)                                                          # plot the model\n"
      ],
      "metadata": {
        "id": "sRXFLznt3SYV"
      },
      "execution_count": null,
      "outputs": []
    },
    {
      "cell_type": "markdown",
      "source": [
        "# **train VGG model**"
      ],
      "metadata": {
        "id": "w6MrMnv33zND"
      }
    },
    {
      "cell_type": "code",
      "source": [
        "vgg_hist=vgg_model.fit(X_train,y_train, epochs=my_epochs,batch_size=my_batch_size,validation_data=(X_valid,y_valid))"
      ],
      "metadata": {
        "id": "EIm5_u6aSObg"
      },
      "execution_count": null,
      "outputs": []
    },
    {
      "cell_type": "markdown",
      "metadata": {
        "id": "YyCb0xRFEfHA"
      },
      "source": [
        "# **save model**"
      ]
    },
    {
      "cell_type": "code",
      "execution_count": null,
      "metadata": {
        "id": "WVohZx9rEfHB"
      },
      "outputs": [],
      "source": [
        "from keras.models import load_model\n",
        "\n",
        "vgg_model.save('vgg_model.h5')  # creates a HDF5 file to save model\n",
        " "
      ]
    },
    {
      "cell_type": "code",
      "execution_count": null,
      "metadata": {
        "id": "NuWpJDudEfHB"
      },
      "outputs": [],
      "source": [
        "!cp vgg_model.h5 /content/drive/MyDrive/Face_Anti_Spoofing_Dataset/    # save the model in Google Drive for future use"
      ]
    },
    {
      "cell_type": "markdown",
      "source": [
        "# **load vgg trained model**\n",
        "The two cells below are useful when the model has already been trained and saved in Google Drive, and you can load the model to test it or derive new plots."
      ],
      "metadata": {
        "id": "OQBBXtVVr09g"
      }
    },
    {
      "cell_type": "code",
      "source": [
        "!cp  /content/drive/MyDrive/Face_Anti_Spoofing_Dataset/vgg_model.h5 /content/"
      ],
      "metadata": {
        "id": "IKNs_-CBoiLU"
      },
      "execution_count": null,
      "outputs": []
    },
    {
      "cell_type": "code",
      "execution_count": null,
      "metadata": {
        "id": "sUaXKW5kEfHC"
      },
      "outputs": [],
      "source": [
        "from keras.models import load_model\n",
        "\n",
        "# returns a compiled model identical to the previous one\n",
        "vgg_model = load_model('/content/vgg_model.h5')"
      ]
    },
    {
      "cell_type": "markdown",
      "metadata": {
        "id": "Qzsl6Xkw4FB9"
      },
      "source": [
        "# **plot training history: loss and accuracy**"
      ]
    },
    {
      "cell_type": "code",
      "execution_count": null,
      "metadata": {
        "id": "wziPrJa54FB-"
      },
      "outputs": [],
      "source": [
        "\n",
        "acc = vgg_hist.history['accuracy']\n",
        "loss = vgg_hist.history['loss']\n",
        "val_acc=vgg_hist.history['val_accuracy']\n",
        "val_loss=vgg_hist.history['val_loss']\n",
        "\n",
        "plt.figure(figsize=(10,8))\n",
        "plt.plot(range(my_epochs), loss, label='training loss')\n",
        "plt.plot(range(my_epochs), val_loss, label='validation loss')\n",
        "plt.legend(loc='upper right')\n",
        "plt.title('Training loss ')\n",
        "plt.show()\n",
        "plt.figure(figsize=(10,8))\n",
        "plt.plot(range(my_epochs), acc, label='training accuracy' )\n",
        "plt.plot(range(my_epochs), val_acc, label='validation accuracy' )\n",
        "plt.legend(loc='upper right')\n",
        "plt.title('Training accuracy')\n",
        "plt.show()\n"
      ]
    },
    {
      "cell_type": "markdown",
      "metadata": {
        "id": "dwHLtiIA4FCA"
      },
      "source": [
        "# **test model**"
      ]
    },
    {
      "cell_type": "code",
      "execution_count": null,
      "metadata": {
        "id": "WygszKPM4FCA"
      },
      "outputs": [],
      "source": [
        "y_pred_vgg=vgg_model.predict(X_test,verbose=0)\n",
        "y_pred_vgg=(y_pred_vgg>0.5).astype(\"int32\")      # set a threshold of 0.5 for the sigmoid-activated neuron: if its value is above 0.5, the predicted label is 1, otherwise 0"
      ]
    },
    {
      "cell_type": "markdown",
      "source": [
        "# **Plot confusion matrix for the results of classification**"
      ],
      "metadata": {
        "id": "ZcispMiK5ucX"
      }
    },
    {
      "cell_type": "code",
      "execution_count": null,
      "metadata": {
        "id": "NCHXbdv24FCC"
      },
      "outputs": [],
      "source": [
        "Con_matrix=confusion_matrix(y_test, y_pred_vgg)\n",
        "fig, ax = plot_confusion_matrix(conf_mat=Con_matrix,\n",
        "                            show_absolute=True,\n",
        "                            show_normed=False,\n",
        "                            colorbar=True)\n",
        "\n",
        "ax.set_title('confusion_matrix of VGG ')\n",
        "plt.show()"
      ]
    },
    {
      "cell_type": "markdown",
      "metadata": {
        "id": "_85P909azOTk"
      },
      "source": [
        "# **create ResNet50 model**"
      ]
    },
    {
      "cell_type": "code",
      "execution_count": null,
      "metadata": {
        "id": "OBmy632gzOak"
      },
      "outputs": [],
      "source": [
        "\n",
        "ResNet_base_model=tf.keras.applications.ResNet50(weights=\"imagenet\",include_top=False,input_shape =(width,height,channel))\n",
        "ResNet_base_model.summary ()\n",
        "\n",
        "for layer in ResNet_base_model.layers:\n",
        "    layer.trainable = False\n",
        "\n",
        "#get weights and features from base model    \n",
        "ResNet_features = ResNet_base_model.output\n"
      ]
    },
    {
      "cell_type": "markdown",
      "source": [
        "# **use pretrained ResNet**"
      ],
      "metadata": {
        "id": "TJvHXaf55H81"
      }
    },
    {
      "cell_type": "code",
      "source": [
        "headModel = ResNet_base_model.output\n",
        "headModel = Flatten(name=\"flatten\")(headModel)\n",
        "headModel = Dense(300, activation=\"relu\")(headModel)\n",
        "headModel = Dropout(.5)(headModel)\n",
        "headModel = Dense(200, activation=\"relu\")(headModel)\n",
        "headModel = Dropout(.5)(headModel)\n",
        "headModel = Dense(100, activation=\"relu\")(headModel)\n",
        "headModel = Dense(1, activation=\"sigmoid\")(headModel)\n",
        "resnet_model = Model(inputs=ResNet_base_model.input, outputs=headModel)"
      ],
      "metadata": {
        "id": "r54qoTed5H82"
      },
      "execution_count": null,
      "outputs": []
    },
    {
      "cell_type": "markdown",
      "source": [
        "# **compile and plot model created using ResnNet model**"
      ],
      "metadata": {
        "id": "1tgvorbz5H83"
      }
    },
    {
      "cell_type": "code",
      "source": [
        "resnet_model.compile(optimizer='Adam', loss=tensorflow.keras.losses.binary_crossentropy,metrics=\"accuracy\" )\n",
        "import keras\n",
        "keras.utils.vis_utils.plot_model(resnet_model,dpi=150)\n"
      ],
      "metadata": {
        "id": "kXV_eIlU5H84"
      },
      "execution_count": null,
      "outputs": []
    },
    {
      "cell_type": "markdown",
      "source": [
        "# **train ResNet model**"
      ],
      "metadata": {
        "id": "uKZGcxvV5H84"
      }
    },
    {
      "cell_type": "code",
      "source": [
        "import gc\n",
        "gc.collect()"
      ],
      "metadata": {
        "id": "wKtlBJ9uK6kZ"
      },
      "execution_count": null,
      "outputs": []
    },
    {
      "cell_type": "code",
      "source": [
        "resnet_hist=resnet_model.fit(X_train,y_train, epochs=my_epochs,batch_size=my_batch_size,validation_data=(X_valid,y_valid))"
      ],
      "metadata": {
        "id": "x7oLB5nH5H85"
      },
      "execution_count": null,
      "outputs": []
    },
    {
      "cell_type": "markdown",
      "metadata": {
        "id": "FyLpPVyBEYYw"
      },
      "source": [
        "# **save model**"
      ]
    },
    {
      "cell_type": "code",
      "execution_count": null,
      "metadata": {
        "id": "bJYppmgoEYYw"
      },
      "outputs": [],
      "source": [
        "from keras.models import load_model\n",
        "\n",
        "resnet_model.save('resnet_model.h5')  # creates a HDF5 file to save model\n",
        " "
      ]
    },
    {
      "cell_type": "code",
      "execution_count": null,
      "metadata": {
        "id": "QAQe36x7EYYx"
      },
      "outputs": [],
      "source": [
        "!cp resnet_model.h5 /content/drive/MyDrive/Face_Anti_Spoofing_Dataset/"
      ]
    },
    {
      "cell_type": "markdown",
      "source": [
        "# **load resNet trained model**"
      ],
      "metadata": {
        "id": "sdG2dmHeoYKh"
      }
    },
    {
      "cell_type": "code",
      "source": [
        "!cp  /content/drive/MyDrive/Face_Anti_Spoofing_Dataset/resnet_model.h5 /content/"
      ],
      "metadata": {
        "id": "3ynGtoyxobPV"
      },
      "execution_count": null,
      "outputs": []
    },
    {
      "cell_type": "code",
      "execution_count": null,
      "metadata": {
        "id": "cYLN1-QCEYYx"
      },
      "outputs": [],
      "source": [
        "from keras.models import load_model\n",
        "\n",
        "# returns a compiled model identical to the previous one\n",
        "resnet_model = load_model('/content/resnet_model.h5')"
      ]
    },
    {
      "cell_type": "markdown",
      "metadata": {
        "id": "Spt3A2tA5H85"
      },
      "source": [
        "# **plot loss and accuracy**"
      ]
    },
    {
      "cell_type": "code",
      "execution_count": null,
      "metadata": {
        "id": "bMggcCAq5H86"
      },
      "outputs": [],
      "source": [
        "\n",
        "acc = resnet_hist.history['accuracy']\n",
        "loss = resnet_hist.history['loss']\n",
        "val_acc=resnet_hist.history['val_accuracy']\n",
        "val_loss=resnet_hist.history['val_loss']\n",
        "\n",
        "plt.figure(figsize=(10,8))\n",
        "plt.plot(range(my_epochs), loss, label='training loss')\n",
        "plt.plot(range(my_epochs), val_loss, label='validation loss')\n",
        "plt.legend(loc='upper right')\n",
        "plt.title('Training loss ')\n",
        "plt.show()\n",
        "plt.figure(figsize=(10,8))\n",
        "plt.plot(range(my_epochs), acc, label='training accuracy' )\n",
        "plt.plot(range(my_epochs), val_acc, label='validation accuracy' )\n",
        "plt.legend(loc='upper right')\n",
        "plt.title('Training accuracy')\n",
        "plt.show()\n"
      ]
    },
    {
      "cell_type": "markdown",
      "metadata": {
        "id": "Qva7Pg7q5H87"
      },
      "source": [
        "# **test model**"
      ]
    },
    {
      "cell_type": "code",
      "execution_count": null,
      "metadata": {
        "id": "Bl4ggcKD5H88"
      },
      "outputs": [],
      "source": [
        "y_pred_resnet=resnet_model.predict(X_test,verbose=0)\n",
        "y_pred_resnet=(y_pred_resnet>0.5).astype(\"int32\")\n",
        "# y_pred_vgg[1:10]"
      ]
    },
    {
      "cell_type": "markdown",
      "metadata": {
        "id": "nK9f6Xme5H89"
      },
      "source": [
        "# **Plot confusion matrix for the results of classification**"
      ]
    },
    {
      "cell_type": "code",
      "execution_count": null,
      "metadata": {
        "id": "ooTaAZ2L5H89"
      },
      "outputs": [],
      "source": [
        "Con_matrix=confusion_matrix(y_test, y_pred_resnet)\n",
        "fig, ax = plot_confusion_matrix(conf_mat=Con_matrix,\n",
        "                            show_absolute=True,\n",
        "                            show_normed=False,\n",
        "                            colorbar=True)\n",
        "\n",
        "ax.set_title('confusion_matrix of ResNet ')\n",
        "plt.show()\n"
      ]
    },
    {
      "cell_type": "markdown",
      "metadata": {
        "id": "4yOliday7Z8R"
      },
      "source": [
        "# **create Xception model**"
      ]
    },
    {
      "cell_type": "code",
      "execution_count": null,
      "metadata": {
        "id": "BEt4N-3D7Z8S"
      },
      "outputs": [],
      "source": [
        "xception_base_model=tf.keras.applications.Xception(weights=\"imagenet\",include_top=False,input_shape =(width,height,channel))\n",
        "xception_base_model.summary ()\n",
        "\n",
        "for layer in xception_base_model.layers:\n",
        "    layer.trainable = False\n",
        "\n",
        "#get weights and features from base model    \n",
        "xception_features = xception_base_model.output\n"
      ]
    },
    {
      "cell_type": "markdown",
      "source": [
        "# **use pretrained Xception**"
      ],
      "metadata": {
        "id": "67PN8IF57Z8T"
      }
    },
    {
      "cell_type": "code",
      "source": [
        "#get weights and features from base model    \n",
        "headModel = xception_base_model.output\n",
        "headModel = Flatten(name=\"flatten\")(headModel)\n",
        "headModel = Dense(300, activation=\"relu\")(headModel)\n",
        "headModel = Dropout(.2)(headModel)\n",
        "headModel = Dense(200, activation=\"relu\")(headModel)\n",
        "headModel = Dropout(.2)(headModel)\n",
        "headModel = Dense(100, activation=\"relu\")(headModel)\n",
        "headModel = Dense(1, activation=\"sigmoid\")(headModel)\n",
        "xception_model = Model(inputs=xception_base_model.input, outputs=headModel)"
      ],
      "metadata": {
        "id": "L_rT8MwMSm2O"
      },
      "execution_count": null,
      "outputs": []
    },
    {
      "cell_type": "markdown",
      "source": [
        "# **compile and plot model created using Xception model**"
      ],
      "metadata": {
        "id": "u_pq8C2T7Z8U"
      }
    },
    {
      "cell_type": "code",
      "source": [
        "xception_model.compile(optimizer='Adam', loss=tensorflow.keras.losses.binary_crossentropy,metrics=\"accuracy\" )\n",
        "import keras\n",
        "keras.utils.vis_utils.plot_model(xception_model,dpi=100)\n"
      ],
      "metadata": {
        "id": "35oHtt_Z7Z8V"
      },
      "execution_count": null,
      "outputs": []
    },
    {
      "cell_type": "markdown",
      "source": [
        "# **train Xception model**"
      ],
      "metadata": {
        "id": "bNpdIZnw7Z8V"
      }
    },
    {
      "cell_type": "code",
      "source": [
        "xception_hist=xception_model.fit(X_train,y_train, epochs=my_epochs,batch_size=my_batch_size,validation_data=(X_valid,y_valid))"
      ],
      "metadata": {
        "id": "V7mSeYuR7Z8W"
      },
      "execution_count": null,
      "outputs": []
    },
    {
      "cell_type": "markdown",
      "metadata": {
        "id": "oLTfMw5BEQEU"
      },
      "source": [
        "# **save model**"
      ]
    },
    {
      "cell_type": "code",
      "execution_count": null,
      "metadata": {
        "id": "b3X4Mh17EQEV"
      },
      "outputs": [],
      "source": [
        "from keras.models import load_model\n",
        "\n",
        "xception_model.save('xception_model.h5')  # creates a HDF5 file to save model\n",
        " "
      ]
    },
    {
      "cell_type": "code",
      "execution_count": null,
      "metadata": {
        "id": "BTWmHJZFEQEW"
      },
      "outputs": [],
      "source": [
        "!cp xception_model.h5 /content/drive/MyDrive/Face_Anti_Spoofing_Dataset/"
      ]
    },
    {
      "cell_type": "markdown",
      "source": [
        "# **load trained Xception model**"
      ],
      "metadata": {
        "id": "LSPnumMdpfk1"
      }
    },
    {
      "cell_type": "code",
      "source": [
        "!cp  /content/drive/MyDrive/Face_Anti_Spoofing_Dataset/xception_model.h5 /content/"
      ],
      "metadata": {
        "id": "9Ec_obXhpkGH"
      },
      "execution_count": null,
      "outputs": []
    },
    {
      "cell_type": "code",
      "execution_count": null,
      "metadata": {
        "id": "zEoEbS9CEQEX"
      },
      "outputs": [],
      "source": [
        "from keras.models import load_model\n",
        "\n",
        "# returns a compiled model identical to the previous one\n",
        "xception_model = load_model('/content/xception_model.h5')"
      ]
    },
    {
      "cell_type": "markdown",
      "metadata": {
        "id": "GxzcVxHH7Z8W"
      },
      "source": [
        "# **plot loss and accuracy**"
      ]
    },
    {
      "cell_type": "code",
      "execution_count": null,
      "metadata": {
        "id": "ypGQjKM07Z8X"
      },
      "outputs": [],
      "source": [
        "\n",
        "acc = xception_hist.history['accuracy']\n",
        "loss = xception_hist.history['loss']\n",
        "val_acc=xception_hist.history['val_accuracy']\n",
        "val_loss=xception_hist.history['val_loss']\n",
        "\n",
        "plt.figure(figsize=(10,8))\n",
        "plt.plot(range(my_epochs), loss, label='training loss')\n",
        "plt.plot(range(my_epochs), val_loss, label='validation loss')\n",
        "plt.legend(loc='upper right')\n",
        "plt.title('Training loss ')\n",
        "plt.show()\n",
        "plt.figure(figsize=(10,8))\n",
        "plt.plot(range(my_epochs), acc, label='training accuracy' )\n",
        "plt.plot(range(my_epochs), val_acc, label='validation accuracy' )\n",
        "plt.legend(loc='upper right')\n",
        "plt.title('Training accuracy')\n",
        "plt.show()\n"
      ]
    },
    {
      "cell_type": "markdown",
      "metadata": {
        "id": "eORw4_x77Z8Y"
      },
      "source": [
        "# **test model**"
      ]
    },
    {
      "cell_type": "code",
      "execution_count": null,
      "metadata": {
        "id": "Mx5mr7Q_7Z8Z"
      },
      "outputs": [],
      "source": [
        "y_pred_xception=xception_model.predict(X_test,verbose=0)\n",
        "y_pred_xception=(y_pred_xception>0.5).astype(\"int32\")\n"
      ]
    },
    {
      "cell_type": "markdown",
      "metadata": {
        "id": "4q4onq6g7Z8Z"
      },
      "source": [
        "# **Plot confusion matrix for the results of classification**"
      ]
    },
    {
      "cell_type": "code",
      "source": [
        "Con_matrix=confusion_matrix(y_test, y_pred_xception)\n",
        "fig, ax = plot_confusion_matrix(conf_mat=Con_matrix,\n",
        "                            show_absolute=True,\n",
        "                            show_normed=False,\n",
        "                            colorbar=True)\n",
        "\n",
        "ax.set_title('confusion_matrix of  Xception ')\n",
        "plt.show()\n"
      ],
      "metadata": {
        "id": "bwmOH2zisJkv"
      },
      "execution_count": null,
      "outputs": []
    },
    {
      "cell_type": "markdown",
      "metadata": {
        "id": "LAbuJN4Qzi9b"
      },
      "source": [
        "# **create hybrid model**"
      ]
    },
    {
      "cell_type": "code",
      "execution_count": null,
      "metadata": {
        "id": "maeOgm8H24-d"
      },
      "outputs": [],
      "source": [
        "VGG_features=Flatten(name=\"VGG_Weights_Features\")(VGG_features)"
      ]
    },
    {
      "cell_type": "code",
      "execution_count": null,
      "metadata": {
        "id": "esfV5E-l2t6q"
      },
      "outputs": [],
      "source": [
        "ResNet_features=Flatten(name=\"ResNet_Weights_Features\")(ResNet_features)"
      ]
    },
    {
      "cell_type": "code",
      "execution_count": null,
      "metadata": {
        "id": "ig_PDtlXzk4m"
      },
      "outputs": [],
      "source": [
        "all_features = concatenate([VGG_features, ResNet_features])"
      ]
    },
    {
      "cell_type": "code",
      "execution_count": null,
      "metadata": {
        "id": "tDPKRN_Ez5Kj"
      },
      "outputs": [],
      "source": [
        "headModel = Dense(300, activation=\"relu\")(all_features)\n",
        "headModel = Dropout(.5)(headModel)\n",
        "headModel = Dense(200, activation=\"relu\")(headModel)\n",
        "headModel = Dropout(.5)(headModel)\n",
        "headModel = Dense(100, activation=\"relu\")(headModel)\n",
        "head_mode_output = Dense(1,activation=\"sigmoid\")(headModel)\n",
        "hybrid_model = Model(inputs=[VGG_base_model.input,ResNet_base_model.input], outputs=head_mode_output,name=\"final_output\")\n",
        "hybrid_model.compile(optimizer='Adam', loss=tensorflow.keras.losses.binary_crossentropy,metrics=\"accuracy\" )\n"
      ]
    },
    {
      "cell_type": "markdown",
      "metadata": {
        "id": "UoXyGYzr34B6"
      },
      "source": [
        "# **plot model**"
      ]
    },
    {
      "cell_type": "code",
      "execution_count": null,
      "metadata": {
        "id": "wYDi0zbk30ok"
      },
      "outputs": [],
      "source": [
        "import keras\n",
        "keras.utils.vis_utils.plot_model(hybrid_model,dpi=150)\n"
      ]
    },
    {
      "cell_type": "markdown",
      "metadata": {
        "id": "LXHauPyjx0b7"
      },
      "source": [
        "# **train model**"
      ]
    },
    {
      "cell_type": "code",
      "source": [
        "import gc\n",
        "gc.collect()"
      ],
      "metadata": {
        "colab": {
          "base_uri": "https://localhost:8080/"
        },
        "id": "yTYgJkShs7s9",
        "outputId": "afacb9d1-bf81-4143-fe2b-745793cbb4f3"
      },
      "execution_count": null,
      "outputs": [
        {
          "output_type": "execute_result",
          "data": {
            "text/plain": [
              "887"
            ]
          },
          "metadata": {},
          "execution_count": 27
        }
      ]
    },
    {
      "cell_type": "code",
      "execution_count": null,
      "metadata": {
        "id": "V0779gfW1nar"
      },
      "outputs": [],
      "source": [
        "my_batch_size=32\n",
        "hybrid_model_hist=hybrid_model.fit([X_train,X_train], y_train,\n",
        "                           validation_data=([X_valid,X_valid], y_valid), epochs=my_epochs,batch_size=my_batch_size)"
      ]
    },
    {
      "cell_type": "markdown",
      "metadata": {
        "id": "pLi89pBavy2I"
      },
      "source": [
        "# **save model**"
      ]
    },
    {
      "cell_type": "code",
      "execution_count": null,
      "metadata": {
        "id": "Hff2mSzhvSHg"
      },
      "outputs": [],
      "source": [
        "from keras.models import load_model\n",
        "\n",
        "hybrid_model.save('hybrid_model.h5')  # creates a HDF5 file to save model\n",
        " "
      ]
    },
    {
      "cell_type": "code",
      "execution_count": null,
      "metadata": {
        "id": "jpOrxsdfUhwg"
      },
      "outputs": [],
      "source": [
        "!cp hybrid_model.h5 /content/drive/MyDrive/Face_Anti_Spoofing_Dataset/"
      ]
    },
    {
      "cell_type": "markdown",
      "source": [
        "# **load trained hybrid model**"
      ],
      "metadata": {
        "id": "TllITKJNQqEM"
      }
    },
    {
      "cell_type": "code",
      "source": [
        "!cp  /content/drive/MyDrive/Face_Anti_Spoofing_Dataset/hybrid_model_d2.h5 /content/"
      ],
      "metadata": {
        "id": "pWpCaNIIQthi"
      },
      "execution_count": null,
      "outputs": []
    },
    {
      "cell_type": "code",
      "execution_count": null,
      "metadata": {
        "id": "dxSdRtuTtdwx"
      },
      "outputs": [],
      "source": [
        "from keras.models import load_model\n",
        "\n",
        "# returns a compiled model identical to the previous one\n",
        "hybrid_model = load_model('/content/hybrid_model_d5.h5')"
      ]
    },
    {
      "cell_type": "markdown",
      "metadata": {
        "id": "tyGDL13-x4Ll"
      },
      "source": [
        "# **plot loss and accuracy**"
      ]
    },
    {
      "cell_type": "code",
      "execution_count": null,
      "metadata": {
        "id": "C8Xf7SrSxzBd"
      },
      "outputs": [],
      "source": [
        "acc = hybrid_model_hist.history['accuracy']\n",
        "loss = hybrid_model_hist.history['loss']\n",
        "val_acc=hybrid_model_hist.history['val_accuracy']\n",
        "val_loss=hybrid_model_hist.history['val_loss']\n",
        "\n",
        "plt.figure(figsize=(10,8))\n",
        "plt.plot(range(my_epochs), loss, label='training loss')\n",
        "plt.plot(range(my_epochs), val_loss, label='validation loss')\n",
        "plt.legend(loc='upper right')\n",
        "plt.title('Training loss ')\n",
        "plt.show()\n",
        "plt.figure(figsize=(10,8))\n",
        "plt.plot(range(my_epochs), acc, label='training accuracy' )\n",
        "plt.plot(range(my_epochs), val_acc, label='validation accuracy' )\n",
        "plt.legend(loc='upper right')\n",
        "plt.title('Training accuracy')\n",
        "plt.show()\n"
      ]
    },
    {
      "cell_type": "markdown",
      "metadata": {
        "id": "ekZHMFhSyAUf"
      },
      "source": [
        "# **test model**"
      ]
    },
    {
      "cell_type": "code",
      "execution_count": null,
      "metadata": {
        "id": "4nGNtQvwyKWr"
      },
      "outputs": [],
      "source": [
        "y_pred_hybrid=hybrid_model.predict([X_test,X_test],verbose=0)\n",
        "y_pred_hybrid=(y_pred_hybrid>0.5).astype(\"int32\")"
      ]
    },
    {
      "cell_type": "markdown",
      "metadata": {
        "id": "u9F4lQ6FyKoj"
      },
      "source": [
        "# **Plot confusion matrix for the results of classification**"
      ]
    },
    {
      "cell_type": "code",
      "execution_count": null,
      "metadata": {
        "id": "2gIUOUJQyDks"
      },
      "outputs": [],
      "source": [
        "Con_matrix=confusion_matrix(y_test, y_pred_hybrid)\n",
        "fig, ax = plot_confusion_matrix(conf_mat=Con_matrix,\n",
        "                            show_absolute=True,\n",
        "                            show_normed=False,\n",
        "                            colorbar=True)\n",
        "\n",
        "ax.set_title('confusion_matrix of Hybrid model ')\n",
        "plt.show()\n"
      ]
    }
  ],
  "metadata": {
    "accelerator": "GPU",
    "colab": {
      "collapsed_sections": [],
      "name": "final_code.ipynb",
      "provenance": [],
      "machine_shape": "hm"
    },
    "kernelspec": {
      "display_name": "Python 3",
      "language": "python",
      "name": "python3"
    },
    "language_info": {
      "codemirror_mode": {
        "name": "ipython",
        "version": 3
      },
      "file_extension": ".py",
      "mimetype": "text/x-python",
      "name": "python",
      "nbconvert_exporter": "python",
      "pygments_lexer": "ipython3",
      "version": "3.8.5"
    },
    "gpuClass": "standard"
  },
  "nbformat": 4,
  "nbformat_minor": 0
}